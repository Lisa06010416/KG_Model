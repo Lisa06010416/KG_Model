{
 "cells": [
  {
   "cell_type": "code",
   "execution_count": 2,
   "metadata": {},
   "outputs": [
    {
     "name": "stderr",
     "output_type": "stream",
     "text": [
      "Using TensorFlow backend.\n"
     ]
    }
   ],
   "source": [
    "import modelCode.TransH as TransH"
   ]
  },
  {
   "cell_type": "code",
   "execution_count": 5,
   "metadata": {},
   "outputs": [],
   "source": [
    "# data\n",
    "readPath = \"../nas/Thesis_KG/Dataset/KG/\"\n",
    "data = TransH.dataSet(readPath, \"minTestRank\", attriTestFile=\"attributeTest2/\")\n",
    "\n",
    "# par\n",
    "savePath = \"../nas/Thesis_KG/Model/movie/TransH_Model/\"\n",
    "loadPath = \"\"\n",
    "description = \"\"\n",
    "epoch = 20\n",
    "isLoad = 0\n",
    "numWorks = 4\n",
    "mulitPreprocess = True"
   ]
  },
  {
   "cell_type": "code",
   "execution_count": null,
   "metadata": {},
   "outputs": [
    {
     "name": "stdout",
     "output_type": "stream",
     "text": [
      "WARNING:tensorflow:From /home/linlisa1017/.conda/envs/lisa/lib/python3.6/site-packages/keras/backend/tensorflow_backend.py:517: The name tf.placeholder is deprecated. Please use tf.compat.v1.placeholder instead.\n",
      "\n",
      "WARNING:tensorflow:From /home/linlisa1017/.conda/envs/lisa/lib/python3.6/site-packages/keras/backend/tensorflow_backend.py:4138: The name tf.random_uniform is deprecated. Please use tf.random.uniform instead.\n",
      "\n",
      "WARNING:tensorflow:From /home/linlisa1017/.conda/envs/lisa/lib/python3.6/site-packages/keras/optimizers.py:790: The name tf.train.Optimizer is deprecated. Please use tf.compat.v1.train.Optimizer instead.\n",
      "\n",
      "model file at :20200802160941\n",
      "~~~~~~~~~~~~~~~~~~~~~~ epoch:1 ~~~~~~~~~~~~~~~~~~~~~~\n",
      "WARNING:tensorflow:From /home/linlisa1017/.conda/envs/lisa/lib/python3.6/site-packages/tensorflow_core/python/ops/math_grad.py:1424: where (from tensorflow.python.ops.array_ops) is deprecated and will be removed in a future version.\n",
      "Instructions for updating:\n",
      "Use tf.where in 2.0, which has the same broadcast rule as np.where\n",
      "WARNING:tensorflow:From /home/linlisa1017/.conda/envs/lisa/lib/python3.6/site-packages/keras/backend/tensorflow_backend.py:986: The name tf.assign_add is deprecated. Please use tf.compat.v1.assign_add instead.\n",
      "\n",
      "WARNING:tensorflow:From /home/linlisa1017/.conda/envs/lisa/lib/python3.6/site-packages/keras/backend/tensorflow_backend.py:973: The name tf.assign is deprecated. Please use tf.compat.v1.assign instead.\n",
      "\n",
      "WARNING:tensorflow:From /home/linlisa1017/.conda/envs/lisa/lib/python3.6/site-packages/keras/backend/tensorflow_backend.py:2741: The name tf.Session is deprecated. Please use tf.compat.v1.Session instead.\n",
      "\n",
      "Epoch 1/1\n",
      "WARNING:tensorflow:From /home/linlisa1017/.conda/envs/lisa/lib/python3.6/site-packages/keras/backend/tensorflow_backend.py:174: The name tf.get_default_session is deprecated. Please use tf.compat.v1.get_default_session instead.\n",
      "\n",
      "WARNING:tensorflow:From /home/linlisa1017/.conda/envs/lisa/lib/python3.6/site-packages/keras/backend/tensorflow_backend.py:181: The name tf.ConfigProto is deprecated. Please use tf.compat.v1.ConfigProto instead.\n",
      "\n",
      "WARNING:tensorflow:From /home/linlisa1017/.conda/envs/lisa/lib/python3.6/site-packages/keras/backend/tensorflow_backend.py:190: The name tf.global_variables is deprecated. Please use tf.compat.v1.global_variables instead.\n",
      "\n",
      "WARNING:tensorflow:From /home/linlisa1017/.conda/envs/lisa/lib/python3.6/site-packages/keras/backend/tensorflow_backend.py:199: The name tf.is_variable_initialized is deprecated. Please use tf.compat.v1.is_variable_initialized instead.\n",
      "\n",
      "WARNING:tensorflow:From /home/linlisa1017/.conda/envs/lisa/lib/python3.6/site-packages/keras/backend/tensorflow_backend.py:206: The name tf.variables_initializer is deprecated. Please use tf.compat.v1.variables_initializer instead.\n",
      "\n",
      "8008/8008 [==============================] - 442s 55ms/step - loss: 0.5217\n",
      "test on TransH ...\n",
      "avgRank : 20.149834437086092\n",
      "hit1 : 0.07947019867549669\n",
      "hit5 : 0.2723509933774834\n",
      "hit10 : 0.4334437086092715\n",
      "~~~~~~~~~~~~~~~~~~~~~~ epoch:2 ~~~~~~~~~~~~~~~~~~~~~~\n",
      "Epoch 1/1\n",
      "2092/8008 [======>.......................] - ETA: 5:31 - loss: 0.3675"
     ]
    }
   ],
   "source": [
    "pars = {\n",
    "    'emSize':200,\n",
    "    'batchSize':128,\n",
    "    'alpha':0.000001,\n",
    "    'gamma':0.7,\n",
    "    'epoch':epoch,\n",
    "    'numWorks' : numWorks,\n",
    "    'mulitPreprocess' : mulitPreprocess,\n",
    "    'isLoad' : isLoad,\n",
    "    'savePath' : savePath,\n",
    "    'loadPath' : loadPath,\n",
    "    'description' : description\n",
    "}\n",
    "Model = TransH.creatModel(pars, data)\n",
    "Model.Train()"
   ]
  },
  {
   "cell_type": "code",
   "execution_count": null,
   "metadata": {},
   "outputs": [],
   "source": []
  }
 ],
 "metadata": {
  "kernelspec": {
   "display_name": "Python 3",
   "language": "python",
   "name": "python3"
  },
  "language_info": {
   "codemirror_mode": {
    "name": "ipython",
    "version": 3
   },
   "file_extension": ".py",
   "mimetype": "text/x-python",
   "name": "python",
   "nbconvert_exporter": "python",
   "pygments_lexer": "ipython3",
   "version": "3.6.10"
  }
 },
 "nbformat": 4,
 "nbformat_minor": 4
}
